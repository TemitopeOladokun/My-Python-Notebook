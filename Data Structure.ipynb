{
 "cells": [
  {
   "cell_type": "markdown",
   "metadata": {},
   "source": [
    "## Data structure is a way to organise information and data. \n",
    "It is a very important concept in programming language.\n",
    "\n",
    "1. List\n",
    "2. Dictionary"
   ]
  },
  {
   "cell_type": "markdown",
   "metadata": {},
   "source": [
    "## 1. List\n",
    "\n",
    "List are mutable"
   ]
  },
  {
   "cell_type": "code",
   "execution_count": 1,
   "metadata": {},
   "outputs": [
    {
     "name": "stdout",
     "output_type": "stream",
     "text": [
      "['Orange', 'Guava', 'Mango', 'Pawpaw', 'Pear', 'Berry']\n"
     ]
    }
   ],
   "source": [
    "fruit = ['Orange', 'Guava', 'Mango', 'Pawpaw', 'Pear', 'Berry']    # fruit variable with a list of different objects\n",
    "print(fruit)"
   ]
  },
  {
   "cell_type": "code",
   "execution_count": 2,
   "metadata": {},
   "outputs": [
    {
     "name": "stdout",
     "output_type": "stream",
     "text": [
      "Mango\n"
     ]
    }
   ],
   "source": [
    "print(fruit[2])"
   ]
  },
  {
   "cell_type": "code",
   "execution_count": null,
   "metadata": {},
   "outputs": [],
   "source": []
  },
  {
   "cell_type": "code",
   "execution_count": null,
   "metadata": {},
   "outputs": [],
   "source": []
  },
  {
   "cell_type": "code",
   "execution_count": 3,
   "metadata": {},
   "outputs": [],
   "source": [
    "amazon_cart = ['Electronics', 'Groceries', 'Cloth', 'Books', 'Stationaries', 'Shoes', 'Sunglasses', 'Beauty Products', 'Beverages', 'Children Wear']"
   ]
  },
  {
   "cell_type": "code",
   "execution_count": 4,
   "metadata": {
    "scrolled": true
   },
   "outputs": [
    {
     "data": {
      "text/plain": [
       "'Shoes'"
      ]
     },
     "execution_count": 4,
     "metadata": {},
     "output_type": "execute_result"
    }
   ],
   "source": [
    "amazon_cart[5]"
   ]
  },
  {
   "cell_type": "code",
   "execution_count": 5,
   "metadata": {},
   "outputs": [
    {
     "data": {
      "text/plain": [
       "['Electronics',\n",
       " 'Groceries',\n",
       " 'Cloth',\n",
       " 'Books',\n",
       " 'Stationaries',\n",
       " 'Shoes',\n",
       " 'Sunglasses',\n",
       " 'Beauty Products',\n",
       " 'Beverages',\n",
       " 'Bags']"
      ]
     },
     "execution_count": 5,
     "metadata": {},
     "output_type": "execute_result"
    }
   ],
   "source": [
    "amazon_cart[9] = 'Bags'         \n",
    "amazon_cart"
   ]
  },
  {
   "cell_type": "markdown",
   "metadata": {},
   "source": [
    "## List slicing"
   ]
  },
  {
   "cell_type": "code",
   "execution_count": 6,
   "metadata": {
    "scrolled": true
   },
   "outputs": [
    {
     "name": "stdout",
     "output_type": "stream",
     "text": [
      "['Electronics', 'Groceries', 'Cloth']\n"
     ]
    }
   ],
   "source": [
    "print(amazon_cart[0:3])"
   ]
  },
  {
   "cell_type": "code",
   "execution_count": 7,
   "metadata": {},
   "outputs": [
    {
     "data": {
      "text/plain": [
       "['Electronics', 'Groceries', 'Cloth']"
      ]
     },
     "execution_count": 7,
     "metadata": {},
     "output_type": "execute_result"
    }
   ],
   "source": [
    "new_cart = amazon_cart[0:3]\n",
    "new_cart"
   ]
  },
  {
   "cell_type": "code",
   "execution_count": 8,
   "metadata": {},
   "outputs": [
    {
     "data": {
      "text/plain": [
       "['Bags',\n",
       " 'Beverages',\n",
       " 'Beauty Products',\n",
       " 'Sunglasses',\n",
       " 'Shoes',\n",
       " 'Stationaries',\n",
       " 'Books',\n",
       " 'Cloth',\n",
       " 'Groceries',\n",
       " 'Electronics']"
      ]
     },
     "execution_count": 8,
     "metadata": {},
     "output_type": "execute_result"
    }
   ],
   "source": [
    "new_cart2 = amazon_cart[::-1]       # Another way to reverse a list\n",
    "new_cart2"
   ]
  },
  {
   "cell_type": "code",
   "execution_count": 9,
   "metadata": {},
   "outputs": [
    {
     "data": {
      "text/plain": [
       "['Bags',\n",
       " 'Beverages',\n",
       " 'Beauty Products',\n",
       " 'Sunglasses',\n",
       " 'Shoes',\n",
       " 'Stationaries',\n",
       " 'Books']"
      ]
     },
     "execution_count": 9,
     "metadata": {},
     "output_type": "execute_result"
    }
   ],
   "source": [
    "new_cart = amazon_cart[9:2:-1]\n",
    "new_cart"
   ]
  },
  {
   "cell_type": "code",
   "execution_count": 10,
   "metadata": {},
   "outputs": [
    {
     "data": {
      "text/plain": [
       "[]"
      ]
     },
     "execution_count": 10,
     "metadata": {},
     "output_type": "execute_result"
    }
   ],
   "source": [
    "new_cart = amazon_cart[2:9:-1]\n",
    "new_cart"
   ]
  },
  {
   "cell_type": "code",
   "execution_count": 11,
   "metadata": {},
   "outputs": [
    {
     "data": {
      "text/plain": [
       "['Electronics',\n",
       " 'Groceries',\n",
       " 'Cloth',\n",
       " 'Books',\n",
       " 'Stationaries',\n",
       " 'Shoes',\n",
       " 'Sunglasses',\n",
       " 'Beauty Products',\n",
       " 'Beverages']"
      ]
     },
     "execution_count": 11,
     "metadata": {},
     "output_type": "execute_result"
    }
   ],
   "source": [
    "new_cart = amazon_cart[:-1]\n",
    "new_cart"
   ]
  },
  {
   "cell_type": "code",
   "execution_count": null,
   "metadata": {},
   "outputs": [],
   "source": []
  },
  {
   "cell_type": "code",
   "execution_count": null,
   "metadata": {},
   "outputs": [],
   "source": []
  },
  {
   "cell_type": "markdown",
   "metadata": {},
   "source": [
    "## 2-D List\n",
    "2-D lists are called Matrix"
   ]
  },
  {
   "cell_type": "code",
   "execution_count": 12,
   "metadata": {},
   "outputs": [
    {
     "name": "stdout",
     "output_type": "stream",
     "text": [
      "6\n",
      "7\n"
     ]
    }
   ],
   "source": [
    "mat = [[1, 2, 3], [4, 5, 6], [7, 8, 9]]\n",
    "print(mat[1][2])\n",
    "print(mat[2][0])"
   ]
  },
  {
   "cell_type": "code",
   "execution_count": 13,
   "metadata": {},
   "outputs": [
    {
     "name": "stdout",
     "output_type": "stream",
     "text": [
      "88\n"
     ]
    }
   ],
   "source": [
    "mat = [\n",
    "    [[1, 2, 3], [4, 5, 6], [7, 8, 9]], \n",
    "    [[101, 12, 13], [14, 75, 16], [97, 88, 19]], \n",
    "    [[21, 22, 23], [24, 25, 62], [47, 58, 90]]\n",
    "]\n",
    "print(mat[1][2][1])"
   ]
  },
  {
   "cell_type": "code",
   "execution_count": null,
   "metadata": {},
   "outputs": [],
   "source": []
  },
  {
   "cell_type": "markdown",
   "metadata": {},
   "source": [
    "## List function"
   ]
  },
  {
   "cell_type": "code",
   "execution_count": 1,
   "metadata": {},
   "outputs": [
    {
     "data": {
      "text/plain": [
       "['Electronics',\n",
       " 'Groceries',\n",
       " 'Cloth',\n",
       " 'Books',\n",
       " 'Stationaries',\n",
       " 'Shoes',\n",
       " 'Sunglasses',\n",
       " 'Beauty Products',\n",
       " 'Beverages',\n",
       " 'Children Wear',\n",
       " 'food']"
      ]
     },
     "execution_count": 1,
     "metadata": {},
     "output_type": "execute_result"
    }
   ],
   "source": [
    "amazon_cart = ['Electronics', 'Groceries', 'Cloth', 'Books', 'Stationaries', 'Shoes', 'Sunglasses', 'Beauty Products', 'Beverages', 'Children Wear']\n",
    "\n",
    "amazon_cart.append(\"food\")\n",
    "amazon_cart\n",
    "\n",
    "new_cart = amazon_cart\n",
    "new_cart"
   ]
  },
  {
   "cell_type": "code",
   "execution_count": 2,
   "metadata": {
    "scrolled": false
   },
   "outputs": [
    {
     "data": {
      "text/plain": [
       "['Electrical Appliances',\n",
       " 'Electronics',\n",
       " 'Groceries',\n",
       " 'Cloth',\n",
       " 'Books',\n",
       " 'Stationaries',\n",
       " 'Shoes',\n",
       " 'Sunglasses',\n",
       " 'Beauty Products',\n",
       " 'Beverages',\n",
       " 'Children Wear',\n",
       " 'food']"
      ]
     },
     "execution_count": 2,
     "metadata": {},
     "output_type": "execute_result"
    }
   ],
   "source": [
    "amazon_cart.insert(0, 'Electrical Appliances')\n",
    "amazon_cart\n",
    "#print(len(amazon_cart))"
   ]
  },
  {
   "cell_type": "code",
   "execution_count": 3,
   "metadata": {
    "scrolled": false
   },
   "outputs": [
    {
     "data": {
      "text/plain": [
       "['Electrical Appliances',\n",
       " 'Electronics',\n",
       " 'Groceries',\n",
       " 'Cloth',\n",
       " 'Books',\n",
       " 'Stationaries',\n",
       " 'Shoes',\n",
       " 'Sunglasses',\n",
       " 'Beauty Products',\n",
       " 'Beverages',\n",
       " 'Children Wear',\n",
       " 'food',\n",
       " 'vegetables']"
      ]
     },
     "execution_count": 3,
     "metadata": {},
     "output_type": "execute_result"
    }
   ],
   "source": [
    "amazon_cart.extend([\"vegetables\"])\n",
    "amazon_cart"
   ]
  },
  {
   "cell_type": "code",
   "execution_count": 4,
   "metadata": {},
   "outputs": [
    {
     "data": {
      "text/plain": [
       "['Electrical Appliances',\n",
       " 'Electronics',\n",
       " 'Groceries',\n",
       " 'Cloth',\n",
       " 'Books',\n",
       " 'Stationaries',\n",
       " 'Shoes',\n",
       " 'Sunglasses',\n",
       " 'Beauty Products',\n",
       " 'Beverages',\n",
       " 'Children Wear',\n",
       " 'food',\n",
       " 'vegetables',\n",
       " 'Sales product']"
      ]
     },
     "execution_count": 4,
     "metadata": {},
     "output_type": "execute_result"
    }
   ],
   "source": [
    "amazon_cart.extend([\"Sales product\"])   # extend takes only one object\n",
    "amazon_cart"
   ]
  },
  {
   "cell_type": "code",
   "execution_count": 22,
   "metadata": {
    "scrolled": true
   },
   "outputs": [
    {
     "data": {
      "text/plain": [
       "['Beauty Products',\n",
       " 'Beverages',\n",
       " 'Books',\n",
       " 'Children Wear',\n",
       " 'Cloth',\n",
       " 'Electronics',\n",
       " 'Groceries',\n",
       " 'Shoes',\n",
       " 'Stationaries',\n",
       " 'Sunglasses']"
      ]
     },
     "execution_count": 22,
     "metadata": {},
     "output_type": "execute_result"
    }
   ],
   "source": [
    "amazon_cart.sort()\n",
    "amazon_cart"
   ]
  },
  {
   "cell_type": "markdown",
   "metadata": {},
   "source": [
    "#### Sorted function sorts the element but does not chaneg the content of the element\n",
    "It still retains it intial arrangement befiore it was sorted "
   ]
  },
  {
   "cell_type": "code",
   "execution_count": 23,
   "metadata": {},
   "outputs": [
    {
     "name": "stdout",
     "output_type": "stream",
     "text": [
      "['Beauty Products', 'Beverages', 'Books', 'Children Wear', 'Cloth', 'Electronics', 'Groceries', 'Shoes', 'Stationaries', 'Sunglasses']\n"
     ]
    }
   ],
   "source": [
    "amazon_cart = ['Electronics', 'Groceries', 'Cloth', 'Books', 'Stationaries', 'Shoes', 'Sunglasses', 'Beauty Products', 'Beverages', 'Children Wear']\n",
    "print(sorted(amazon_cart))\n"
   ]
  },
  {
   "cell_type": "code",
   "execution_count": 24,
   "metadata": {},
   "outputs": [
    {
     "data": {
      "text/plain": [
       "['Electronics',\n",
       " 'Groceries',\n",
       " 'Cloth',\n",
       " 'Books',\n",
       " 'Stationaries',\n",
       " 'Shoes',\n",
       " 'Sunglasses',\n",
       " 'Beauty Products',\n",
       " 'Beverages',\n",
       " 'Children Wear']"
      ]
     },
     "execution_count": 24,
     "metadata": {},
     "output_type": "execute_result"
    }
   ],
   "source": [
    "amazon_cart"
   ]
  },
  {
   "cell_type": "markdown",
   "metadata": {},
   "source": [
    "### Checking for the index of an element"
   ]
  },
  {
   "cell_type": "code",
   "execution_count": 13,
   "metadata": {},
   "outputs": [
    {
     "name": "stdout",
     "output_type": "stream",
     "text": [
      "4\n"
     ]
    }
   ],
   "source": [
    "print(amazon_cart.index(\"Cloth\"))\n"
   ]
  },
  {
   "cell_type": "code",
   "execution_count": 15,
   "metadata": {},
   "outputs": [
    {
     "name": "stdout",
     "output_type": "stream",
     "text": [
      "2\n"
     ]
    }
   ],
   "source": [
    "print(amazon_cart.index(\"Books\", 0, 5))\n"
   ]
  },
  {
   "cell_type": "code",
   "execution_count": null,
   "metadata": {},
   "outputs": [],
   "source": []
  },
  {
   "cell_type": "markdown",
   "metadata": {},
   "source": [
    "### using the \"in\" keyword to check if there is an element"
   ]
  },
  {
   "cell_type": "code",
   "execution_count": 16,
   "metadata": {},
   "outputs": [
    {
     "name": "stdout",
     "output_type": "stream",
     "text": [
      "False\n"
     ]
    }
   ],
   "source": [
    "print(\"Animals\" in amazon_cart)"
   ]
  },
  {
   "cell_type": "code",
   "execution_count": 17,
   "metadata": {},
   "outputs": [
    {
     "name": "stdout",
     "output_type": "stream",
     "text": [
      "True\n"
     ]
    }
   ],
   "source": [
    "print(\"vegetables\" in amazon_cart)"
   ]
  },
  {
   "cell_type": "code",
   "execution_count": null,
   "metadata": {},
   "outputs": [],
   "source": []
  },
  {
   "cell_type": "markdown",
   "metadata": {},
   "source": [
    "### Count"
   ]
  },
  {
   "cell_type": "code",
   "execution_count": 21,
   "metadata": {},
   "outputs": [
    {
     "name": "stdout",
     "output_type": "stream",
     "text": [
      "1\n"
     ]
    }
   ],
   "source": [
    "amazon_cart = ['Electronics', 'Groceries', 'Cloth', 'Books', 'Stationaries', 'Shoes', 'Sunglasses', 'Beauty Products', 'Beverages', 'Children Wear']\n",
    "print(amazon_cart.count(\"Shoes\"))\n"
   ]
  },
  {
   "cell_type": "code",
   "execution_count": null,
   "metadata": {},
   "outputs": [],
   "source": []
  },
  {
   "cell_type": "markdown",
   "metadata": {},
   "source": [
    "### Copy"
   ]
  },
  {
   "cell_type": "code",
   "execution_count": 28,
   "metadata": {},
   "outputs": [
    {
     "data": {
      "text/plain": [
       "['Electronics',\n",
       " 'Groceries',\n",
       " 'Cloth',\n",
       " 'Books',\n",
       " 'Stationaries',\n",
       " 'Shoes',\n",
       " 'Sunglasses',\n",
       " 'Beauty Products',\n",
       " 'Beverages',\n",
       " 'Children Wear']"
      ]
     },
     "execution_count": 28,
     "metadata": {},
     "output_type": "execute_result"
    }
   ],
   "source": [
    "amazon_cart = ['Electronics', 'Groceries', 'Cloth', 'Books', 'Stationaries', 'Shoes', 'Sunglasses', 'Beauty Products', 'Beverages', 'Children Wear']\n",
    "new_list =amazon_cart.copy()\n",
    "new_list\n"
   ]
  },
  {
   "cell_type": "code",
   "execution_count": 27,
   "metadata": {
    "scrolled": true
   },
   "outputs": [
    {
     "data": {
      "text/plain": [
       "['Electronics',\n",
       " 'Groceries',\n",
       " 'Cloth',\n",
       " 'Books',\n",
       " 'Stationaries',\n",
       " 'Shoes',\n",
       " 'Sunglasses',\n",
       " 'Beauty Products',\n",
       " 'Beverages',\n",
       " 'Children Wear']"
      ]
     },
     "execution_count": 27,
     "metadata": {},
     "output_type": "execute_result"
    }
   ],
   "source": [
    "amazon_cart"
   ]
  },
  {
   "cell_type": "code",
   "execution_count": null,
   "metadata": {},
   "outputs": [],
   "source": []
  },
  {
   "cell_type": "markdown",
   "metadata": {},
   "source": [
    "### Reverse"
   ]
  },
  {
   "cell_type": "code",
   "execution_count": 30,
   "metadata": {},
   "outputs": [
    {
     "data": {
      "text/plain": [
       "['Children Wear',\n",
       " 'Beverages',\n",
       " 'Beauty Products',\n",
       " 'Sunglasses',\n",
       " 'Shoes',\n",
       " 'Stationaries',\n",
       " 'Books',\n",
       " 'Cloth',\n",
       " 'Groceries',\n",
       " 'Electronics']"
      ]
     },
     "execution_count": 30,
     "metadata": {},
     "output_type": "execute_result"
    }
   ],
   "source": [
    "amazon_cart = ['Electronics', 'Groceries', 'Cloth', 'Books', 'Stationaries', 'Shoes', 'Sunglasses', 'Beauty Products', 'Beverages', 'Children Wear']\n",
    "amazon_cart.reverse()\n",
    "amazon_cart\n"
   ]
  },
  {
   "cell_type": "code",
   "execution_count": null,
   "metadata": {},
   "outputs": [],
   "source": []
  },
  {
   "cell_type": "markdown",
   "metadata": {},
   "source": [
    "### Range"
   ]
  },
  {
   "cell_type": "code",
   "execution_count": 31,
   "metadata": {},
   "outputs": [
    {
     "data": {
      "text/plain": [
       "[0,\n",
       " 1,\n",
       " 2,\n",
       " 3,\n",
       " 4,\n",
       " 5,\n",
       " 6,\n",
       " 7,\n",
       " 8,\n",
       " 9,\n",
       " 10,\n",
       " 11,\n",
       " 12,\n",
       " 13,\n",
       " 14,\n",
       " 15,\n",
       " 16,\n",
       " 17,\n",
       " 18,\n",
       " 19,\n",
       " 20,\n",
       " 21,\n",
       " 22,\n",
       " 23,\n",
       " 24,\n",
       " 25,\n",
       " 26,\n",
       " 27,\n",
       " 28,\n",
       " 29,\n",
       " 30,\n",
       " 31,\n",
       " 32,\n",
       " 33,\n",
       " 34,\n",
       " 35,\n",
       " 36,\n",
       " 37,\n",
       " 38,\n",
       " 39,\n",
       " 40,\n",
       " 41,\n",
       " 42,\n",
       " 43,\n",
       " 44,\n",
       " 45,\n",
       " 46,\n",
       " 47,\n",
       " 48,\n",
       " 49,\n",
       " 50,\n",
       " 51,\n",
       " 52,\n",
       " 53,\n",
       " 54,\n",
       " 55,\n",
       " 56,\n",
       " 57,\n",
       " 58,\n",
       " 59,\n",
       " 60,\n",
       " 61,\n",
       " 62,\n",
       " 63,\n",
       " 64,\n",
       " 65,\n",
       " 66,\n",
       " 67,\n",
       " 68,\n",
       " 69,\n",
       " 70,\n",
       " 71,\n",
       " 72,\n",
       " 73,\n",
       " 74,\n",
       " 75,\n",
       " 76,\n",
       " 77,\n",
       " 78,\n",
       " 79,\n",
       " 80,\n",
       " 81,\n",
       " 82,\n",
       " 83,\n",
       " 84,\n",
       " 85,\n",
       " 86,\n",
       " 87,\n",
       " 88,\n",
       " 89,\n",
       " 90,\n",
       " 91,\n",
       " 92,\n",
       " 93,\n",
       " 94,\n",
       " 95,\n",
       " 96,\n",
       " 97,\n",
       " 98,\n",
       " 99]"
      ]
     },
     "execution_count": 31,
     "metadata": {},
     "output_type": "execute_result"
    }
   ],
   "source": [
    "numbers = list(range(100))\n",
    "numbers"
   ]
  },
  {
   "cell_type": "code",
   "execution_count": 32,
   "metadata": {},
   "outputs": [
    {
     "data": {
      "text/plain": [
       "[1,\n",
       " 3,\n",
       " 5,\n",
       " 7,\n",
       " 9,\n",
       " 11,\n",
       " 13,\n",
       " 15,\n",
       " 17,\n",
       " 19,\n",
       " 21,\n",
       " 23,\n",
       " 25,\n",
       " 27,\n",
       " 29,\n",
       " 31,\n",
       " 33,\n",
       " 35,\n",
       " 37,\n",
       " 39,\n",
       " 41,\n",
       " 43,\n",
       " 45,\n",
       " 47,\n",
       " 49,\n",
       " 51,\n",
       " 53,\n",
       " 55,\n",
       " 57,\n",
       " 59,\n",
       " 61,\n",
       " 63,\n",
       " 65,\n",
       " 67,\n",
       " 69,\n",
       " 71,\n",
       " 73,\n",
       " 75,\n",
       " 77,\n",
       " 79,\n",
       " 81,\n",
       " 83,\n",
       " 85,\n",
       " 87,\n",
       " 89,\n",
       " 91,\n",
       " 93,\n",
       " 95,\n",
       " 97,\n",
       " 99]"
      ]
     },
     "execution_count": 32,
     "metadata": {},
     "output_type": "execute_result"
    }
   ],
   "source": [
    "numbers = list(range(1, 100, 2))\n",
    "numbers"
   ]
  },
  {
   "cell_type": "code",
   "execution_count": null,
   "metadata": {},
   "outputs": [],
   "source": []
  },
  {
   "cell_type": "code",
   "execution_count": null,
   "metadata": {},
   "outputs": [],
   "source": []
  },
  {
   "cell_type": "markdown",
   "metadata": {},
   "source": [
    "### Join"
   ]
  },
  {
   "cell_type": "code",
   "execution_count": 2,
   "metadata": {},
   "outputs": [
    {
     "name": "stdout",
     "output_type": "stream",
     "text": [
      "I am on a path of discovery\n"
     ]
    }
   ],
   "source": [
    "sentence = ' '\n",
    "new_sentence = sentence.join(['I', 'am', 'on', 'a', 'path', 'of', 'discovery'])\n",
    "\n",
    "print(new_sentence)"
   ]
  },
  {
   "cell_type": "code",
   "execution_count": 3,
   "metadata": {},
   "outputs": [
    {
     "name": "stdout",
     "output_type": "stream",
     "text": [
      "I am on a path of discovery\n"
     ]
    }
   ],
   "source": [
    "new_sentence = ' '.join(['I', 'am', 'on', 'a', 'path', 'of', 'discovery'])\n",
    "\n",
    "print(new_sentence)"
   ]
  },
  {
   "cell_type": "code",
   "execution_count": null,
   "metadata": {},
   "outputs": [],
   "source": []
  },
  {
   "cell_type": "code",
   "execution_count": null,
   "metadata": {},
   "outputs": [],
   "source": []
  },
  {
   "cell_type": "markdown",
   "metadata": {},
   "source": [
    "### Pop\n",
    "For removing objects via the index while \"remove\" method uses the value of the element\n"
   ]
  },
  {
   "cell_type": "code",
   "execution_count": 25,
   "metadata": {},
   "outputs": [
    {
     "data": {
      "text/plain": [
       "['Beverages',\n",
       " 'Books',\n",
       " 'Children Wear',\n",
       " 'Cloth',\n",
       " 'Electrical Appliances',\n",
       " 'Electronics',\n",
       " 'Groceries',\n",
       " 'Shoes',\n",
       " 'Stationaries',\n",
       " 'Sunglasses',\n",
       " 'food',\n",
       " 'vegetables',\n",
       " 'Sales product']"
      ]
     },
     "execution_count": 25,
     "metadata": {},
     "output_type": "execute_result"
    }
   ],
   "source": [
    "amazon_cart.pop(0)\n",
    "amazon_cart"
   ]
  },
  {
   "cell_type": "code",
   "execution_count": 26,
   "metadata": {},
   "outputs": [
    {
     "data": {
      "text/plain": [
       "['Beverages',\n",
       " 'Books',\n",
       " 'Children Wear',\n",
       " 'Cloth',\n",
       " 'Electrical Appliances',\n",
       " 'Electronics',\n",
       " 'Groceries',\n",
       " 'Shoes',\n",
       " 'Stationaries',\n",
       " 'Sunglasses',\n",
       " 'food',\n",
       " 'vegetables']"
      ]
     },
     "execution_count": 26,
     "metadata": {},
     "output_type": "execute_result"
    }
   ],
   "source": [
    "amazon_cart.pop()\n",
    "amazon_cart"
   ]
  },
  {
   "cell_type": "code",
   "execution_count": 31,
   "metadata": {},
   "outputs": [
    {
     "data": {
      "text/plain": [
       "'Sunglasses'"
      ]
     },
     "execution_count": 31,
     "metadata": {},
     "output_type": "execute_result"
    }
   ],
   "source": [
    "new_list = amazon_cart.pop()\n",
    "new_list"
   ]
  },
  {
   "cell_type": "code",
   "execution_count": 29,
   "metadata": {},
   "outputs": [
    {
     "data": {
      "text/plain": [
       "['Beverages',\n",
       " 'Books',\n",
       " 'Children Wear',\n",
       " 'Cloth',\n",
       " 'Electrical Appliances',\n",
       " 'Electronics',\n",
       " 'Groceries',\n",
       " 'Shoes',\n",
       " 'Stationaries',\n",
       " 'Sunglasses',\n",
       " 'vegetables']"
      ]
     },
     "execution_count": 29,
     "metadata": {},
     "output_type": "execute_result"
    }
   ],
   "source": [
    "amazon_cart.remove(\"food\")\n",
    "amazon_cart"
   ]
  },
  {
   "cell_type": "markdown",
   "metadata": {},
   "source": [
    "### \"Clear method\" clears the content of the list"
   ]
  },
  {
   "cell_type": "code",
   "execution_count": 33,
   "metadata": {},
   "outputs": [
    {
     "data": {
      "text/plain": [
       "[]"
      ]
     },
     "execution_count": 33,
     "metadata": {},
     "output_type": "execute_result"
    }
   ],
   "source": [
    "amazon_cart.clear()\n",
    "amazon_cart"
   ]
  },
  {
   "cell_type": "code",
   "execution_count": null,
   "metadata": {},
   "outputs": [],
   "source": []
  },
  {
   "cell_type": "code",
   "execution_count": null,
   "metadata": {},
   "outputs": [],
   "source": []
  },
  {
   "cell_type": "markdown",
   "metadata": {},
   "source": [
    "### List Unpacking"
   ]
  },
  {
   "cell_type": "code",
   "execution_count": 1,
   "metadata": {},
   "outputs": [
    {
     "name": "stdout",
     "output_type": "stream",
     "text": [
      "1\n",
      "2\n",
      "3\n"
     ]
    }
   ],
   "source": [
    "basket = [1,2,3]\n",
    "a,b,c = [1,2,3]\n",
    "\n",
    "print(a)\n",
    "print(b)\n",
    "print(c)"
   ]
  },
  {
   "cell_type": "code",
   "execution_count": 2,
   "metadata": {},
   "outputs": [
    {
     "name": "stdout",
     "output_type": "stream",
     "text": [
      "1\n",
      "2\n",
      "3\n"
     ]
    }
   ],
   "source": [
    "a,b,c = [1,2,3]\n",
    "\n",
    "print(a)\n",
    "print(b)\n",
    "print(c)"
   ]
  },
  {
   "cell_type": "code",
   "execution_count": 3,
   "metadata": {},
   "outputs": [
    {
     "name": "stdout",
     "output_type": "stream",
     "text": [
      "1\n",
      "2\n",
      "3\n",
      "[4, 5, 6, 7, 8, 9]\n"
     ]
    }
   ],
   "source": [
    "#example of list unpacking\n",
    "a,b,c, *other = [1,2,3,4,5,6,7,8,9]\n",
    "\n",
    "print(a)\n",
    "print(b)\n",
    "print(c)\n",
    "print(other)"
   ]
  },
  {
   "cell_type": "code",
   "execution_count": 4,
   "metadata": {},
   "outputs": [
    {
     "name": "stdout",
     "output_type": "stream",
     "text": [
      "1\n",
      "2\n",
      "3\n",
      "[4, 5, 6, 7, 8]\n",
      "9\n"
     ]
    }
   ],
   "source": [
    "a,b,c, *other, d = [1,2,3,4,5,6,7,8,9]\n",
    "\n",
    "print(a)\n",
    "print(b)\n",
    "print(c)\n",
    "print(other)\n",
    "print(d)"
   ]
  },
  {
   "cell_type": "code",
   "execution_count": null,
   "metadata": {},
   "outputs": [],
   "source": []
  },
  {
   "cell_type": "markdown",
   "metadata": {},
   "source": [
    "### None\n",
    "None is the absence of Value"
   ]
  },
  {
   "cell_type": "code",
   "execution_count": 5,
   "metadata": {},
   "outputs": [
    {
     "name": "stdout",
     "output_type": "stream",
     "text": [
      "None\n"
     ]
    }
   ],
   "source": [
    "weapons = None\n",
    "print(weapons)"
   ]
  },
  {
   "cell_type": "code",
   "execution_count": null,
   "metadata": {},
   "outputs": [],
   "source": []
  },
  {
   "cell_type": "code",
   "execution_count": null,
   "metadata": {},
   "outputs": [],
   "source": []
  },
  {
   "cell_type": "markdown",
   "metadata": {},
   "source": [
    "## 2. Dictionary"
   ]
  },
  {
   "cell_type": "code",
   "execution_count": 11,
   "metadata": {},
   "outputs": [
    {
     "name": "stdout",
     "output_type": "stream",
     "text": [
      "1\n"
     ]
    }
   ],
   "source": [
    "dictionary = {\n",
    "    'a' : 1,\n",
    "    'b' : 2,\n",
    "    'c' : 3\n",
    "}\n",
    "\n",
    "print(dictionary['a'])"
   ]
  },
  {
   "cell_type": "code",
   "execution_count": 13,
   "metadata": {},
   "outputs": [
    {
     "name": "stdout",
     "output_type": "stream",
     "text": [
      "Mango\n"
     ]
    }
   ],
   "source": [
    "fruit = {\n",
    "    1 : 'Mango',\n",
    "    2 : 'Cashew',\n",
    "    3 : 'Banana'\n",
    "}\n",
    "\n",
    "print(fruit[1])"
   ]
  },
  {
   "cell_type": "code",
   "execution_count": null,
   "metadata": {},
   "outputs": [],
   "source": []
  },
  {
   "cell_type": "code",
   "execution_count": null,
   "metadata": {},
   "outputs": [],
   "source": []
  },
  {
   "cell_type": "code",
   "execution_count": null,
   "metadata": {},
   "outputs": [],
   "source": []
  },
  {
   "cell_type": "code",
   "execution_count": null,
   "metadata": {},
   "outputs": [],
   "source": []
  },
  {
   "cell_type": "code",
   "execution_count": null,
   "metadata": {},
   "outputs": [],
   "source": []
  },
  {
   "cell_type": "code",
   "execution_count": null,
   "metadata": {},
   "outputs": [],
   "source": []
  },
  {
   "cell_type": "code",
   "execution_count": null,
   "metadata": {},
   "outputs": [],
   "source": []
  }
 ],
 "metadata": {
  "kernelspec": {
   "display_name": "Python 3",
   "language": "python",
   "name": "python3"
  },
  "language_info": {
   "codemirror_mode": {
    "name": "ipython",
    "version": 3
   },
   "file_extension": ".py",
   "mimetype": "text/x-python",
   "name": "python",
   "nbconvert_exporter": "python",
   "pygments_lexer": "ipython3",
   "version": "3.7.0"
  }
 },
 "nbformat": 4,
 "nbformat_minor": 2
}

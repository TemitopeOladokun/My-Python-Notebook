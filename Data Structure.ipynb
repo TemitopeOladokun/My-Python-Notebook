{
 "cells": [
  {
   "cell_type": "markdown",
   "metadata": {},
   "source": [
    "## Data structure is a way to organise information and data. \n",
    "It is a very important concept in programming language."
   ]
  },
  {
   "cell_type": "markdown",
   "metadata": {},
   "source": [
    "## List\n",
    "\n",
    "List are mutable"
   ]
  },
  {
   "cell_type": "code",
   "execution_count": 1,
   "metadata": {},
   "outputs": [
    {
     "name": "stdout",
     "output_type": "stream",
     "text": [
      "['Orange', 'Guava', 'Mango', 'Pawpaw', 'Pear', 'Berry']\n"
     ]
    }
   ],
   "source": [
    "fruit = ['Orange', 'Guava', 'Mango', 'Pawpaw', 'Pear', 'Berry']    # fruit variable with a list of different objects\n",
    "print(fruit)"
   ]
  },
  {
   "cell_type": "code",
   "execution_count": 2,
   "metadata": {},
   "outputs": [
    {
     "name": "stdout",
     "output_type": "stream",
     "text": [
      "Mango\n"
     ]
    }
   ],
   "source": [
    "print(fruit[2])"
   ]
  },
  {
   "cell_type": "code",
   "execution_count": null,
   "metadata": {},
   "outputs": [],
   "source": []
  },
  {
   "cell_type": "code",
   "execution_count": null,
   "metadata": {},
   "outputs": [],
   "source": []
  },
  {
   "cell_type": "code",
   "execution_count": 26,
   "metadata": {},
   "outputs": [],
   "source": [
    "amazon_cart = ['Electronics', 'Groceries', 'Cloth', 'Books', 'Stationaries', 'Shoes', 'Sunglasses', 'Beauty Products', 'Beverages', 'Children Wear']"
   ]
  },
  {
   "cell_type": "code",
   "execution_count": 27,
   "metadata": {},
   "outputs": [
    {
     "data": {
      "text/plain": [
       "'Shoes'"
      ]
     },
     "execution_count": 27,
     "metadata": {},
     "output_type": "execute_result"
    }
   ],
   "source": [
    "amazon_cart[5]"
   ]
  },
  {
   "cell_type": "code",
   "execution_count": 28,
   "metadata": {},
   "outputs": [
    {
     "data": {
      "text/plain": [
       "['Electronics',\n",
       " 'Groceries',\n",
       " 'Cloth',\n",
       " 'Books',\n",
       " 'Stationaries',\n",
       " 'Shoes',\n",
       " 'Sunglasses',\n",
       " 'Beauty Products',\n",
       " 'Beverages',\n",
       " 'Bags']"
      ]
     },
     "execution_count": 28,
     "metadata": {},
     "output_type": "execute_result"
    }
   ],
   "source": [
    "amazon_cart[9] = 'Bags'         \n",
    "amazon_cart"
   ]
  },
  {
   "cell_type": "markdown",
   "metadata": {},
   "source": [
    "## List slicing"
   ]
  },
  {
   "cell_type": "code",
   "execution_count": 29,
   "metadata": {},
   "outputs": [
    {
     "name": "stdout",
     "output_type": "stream",
     "text": [
      "['Electronics', 'Groceries', 'Cloth']\n"
     ]
    }
   ],
   "source": [
    "print(amazon_cart[0:3])"
   ]
  },
  {
   "cell_type": "code",
   "execution_count": 30,
   "metadata": {},
   "outputs": [
    {
     "data": {
      "text/plain": [
       "['Electronics', 'Groceries', 'Cloth']"
      ]
     },
     "execution_count": 30,
     "metadata": {},
     "output_type": "execute_result"
    }
   ],
   "source": [
    "new_cart = amazon_cart[0:3]\n",
    "new_cart"
   ]
  },
  {
   "cell_type": "code",
   "execution_count": 31,
   "metadata": {},
   "outputs": [
    {
     "data": {
      "text/plain": [
       "['Bags',\n",
       " 'Beverages',\n",
       " 'Beauty Products',\n",
       " 'Sunglasses',\n",
       " 'Shoes',\n",
       " 'Stationaries',\n",
       " 'Books',\n",
       " 'Cloth',\n",
       " 'Groceries',\n",
       " 'Electronics']"
      ]
     },
     "execution_count": 31,
     "metadata": {},
     "output_type": "execute_result"
    }
   ],
   "source": [
    "new_cart2 = amazon_cart[::-1]\n",
    "new_cart2"
   ]
  },
  {
   "cell_type": "code",
   "execution_count": 32,
   "metadata": {},
   "outputs": [
    {
     "data": {
      "text/plain": [
       "['Bags',\n",
       " 'Beverages',\n",
       " 'Beauty Products',\n",
       " 'Sunglasses',\n",
       " 'Shoes',\n",
       " 'Stationaries',\n",
       " 'Books']"
      ]
     },
     "execution_count": 32,
     "metadata": {},
     "output_type": "execute_result"
    }
   ],
   "source": [
    "new_cart = amazon_cart[9:2:-1]\n",
    "new_cart"
   ]
  },
  {
   "cell_type": "code",
   "execution_count": 33,
   "metadata": {},
   "outputs": [
    {
     "data": {
      "text/plain": [
       "[]"
      ]
     },
     "execution_count": 33,
     "metadata": {},
     "output_type": "execute_result"
    }
   ],
   "source": [
    "new_cart = amazon_cart[2:9:-1]\n",
    "new_cart"
   ]
  },
  {
   "cell_type": "code",
   "execution_count": 34,
   "metadata": {},
   "outputs": [
    {
     "data": {
      "text/plain": [
       "['Electronics',\n",
       " 'Groceries',\n",
       " 'Cloth',\n",
       " 'Books',\n",
       " 'Stationaries',\n",
       " 'Shoes',\n",
       " 'Sunglasses',\n",
       " 'Beauty Products',\n",
       " 'Beverages']"
      ]
     },
     "execution_count": 34,
     "metadata": {},
     "output_type": "execute_result"
    }
   ],
   "source": [
    "new_cart = amazon_cart[:-1]\n",
    "new_cart"
   ]
  },
  {
   "cell_type": "code",
   "execution_count": null,
   "metadata": {},
   "outputs": [],
   "source": []
  },
  {
   "cell_type": "code",
   "execution_count": null,
   "metadata": {},
   "outputs": [],
   "source": []
  },
  {
   "cell_type": "markdown",
   "metadata": {},
   "source": [
    "## 2-D List\n",
    "2-D lists are called Matrix"
   ]
  },
  {
   "cell_type": "code",
   "execution_count": 8,
   "metadata": {},
   "outputs": [
    {
     "name": "stdout",
     "output_type": "stream",
     "text": [
      "6\n",
      "7\n"
     ]
    }
   ],
   "source": [
    "mat = [[1, 2, 3], [4, 5, 6], [7, 8, 9]]\n",
    "print(mat[1][2])\n",
    "print(mat[2][0])"
   ]
  },
  {
   "cell_type": "code",
   "execution_count": 11,
   "metadata": {},
   "outputs": [
    {
     "name": "stdout",
     "output_type": "stream",
     "text": [
      "88\n"
     ]
    }
   ],
   "source": [
    "mat = [\n",
    "    [[1, 2, 3], [4, 5, 6], [7, 8, 9]], \n",
    "    [[101, 12, 13], [14, 75, 16], [97, 88, 19]], \n",
    "    [[21, 22, 23], [24, 25, 62], [47, 58, 90]]\n",
    "]\n",
    "print(mat[1][2][1])"
   ]
  },
  {
   "cell_type": "code",
   "execution_count": null,
   "metadata": {},
   "outputs": [],
   "source": []
  },
  {
   "cell_type": "markdown",
   "metadata": {},
   "source": [
    "## List function"
   ]
  },
  {
   "cell_type": "code",
   "execution_count": 35,
   "metadata": {},
   "outputs": [
    {
     "data": {
      "text/plain": [
       "['Electronics',\n",
       " 'Groceries',\n",
       " 'Cloth',\n",
       " 'Books',\n",
       " 'Stationaries',\n",
       " 'Shoes',\n",
       " 'Sunglasses',\n",
       " 'Beauty Products',\n",
       " 'Beverages',\n",
       " 'Children Wear',\n",
       " 'food']"
      ]
     },
     "execution_count": 35,
     "metadata": {},
     "output_type": "execute_result"
    }
   ],
   "source": [
    "amazon_cart = ['Electronics', 'Groceries', 'Cloth', 'Books', 'Stationaries', 'Shoes', 'Sunglasses', 'Beauty Products', 'Beverages', 'Children Wear']\n",
    "\n",
    "amazon_cart.append(\"food\")\n",
    "amazon_cart\n",
    "\n",
    "new_cart = amazon_cart\n",
    "new_cart"
   ]
  },
  {
   "cell_type": "code",
   "execution_count": 44,
   "metadata": {},
   "outputs": [
    {
     "data": {
      "text/plain": [
       "['Electrical Appliances',\n",
       " 'Beauty Products',\n",
       " 'Beverages',\n",
       " 'Books',\n",
       " 'Children Wear',\n",
       " 'Cloth',\n",
       " 'Electrical Appliances',\n",
       " 'Electronics',\n",
       " 'Groceries',\n",
       " 'Shoes',\n",
       " 'Stationaries',\n",
       " 'Sunglasses',\n",
       " 'food',\n",
       " 'v',\n",
       " 'e',\n",
       " 'g',\n",
       " 'e',\n",
       " 't',\n",
       " 'a',\n",
       " 'b',\n",
       " 'l',\n",
       " 'e',\n",
       " 's',\n",
       " 'v',\n",
       " 'e',\n",
       " 'g',\n",
       " 'e',\n",
       " 't',\n",
       " 'a',\n",
       " 'b',\n",
       " 'l',\n",
       " 'e',\n",
       " 's',\n",
       " 'vegetables']"
      ]
     },
     "execution_count": 44,
     "metadata": {},
     "output_type": "execute_result"
    }
   ],
   "source": [
    "amazon_cart.insert(0, 'Electrical Appliances')\n",
    "amazon_cart\n",
    "#print(len(amazon_cart))"
   ]
  },
  {
   "cell_type": "code",
   "execution_count": 43,
   "metadata": {
    "scrolled": true
   },
   "outputs": [
    {
     "data": {
      "text/plain": [
       "['Beauty Products',\n",
       " 'Beverages',\n",
       " 'Books',\n",
       " 'Children Wear',\n",
       " 'Cloth',\n",
       " 'Electrical Appliances',\n",
       " 'Electronics',\n",
       " 'Groceries',\n",
       " 'Shoes',\n",
       " 'Stationaries',\n",
       " 'Sunglasses',\n",
       " 'food',\n",
       " 'v',\n",
       " 'e',\n",
       " 'g',\n",
       " 'e',\n",
       " 't',\n",
       " 'a',\n",
       " 'b',\n",
       " 'l',\n",
       " 'e',\n",
       " 's',\n",
       " 'v',\n",
       " 'e',\n",
       " 'g',\n",
       " 'e',\n",
       " 't',\n",
       " 'a',\n",
       " 'b',\n",
       " 'l',\n",
       " 'e',\n",
       " 's',\n",
       " 'vegetables']"
      ]
     },
     "execution_count": 43,
     "metadata": {},
     "output_type": "execute_result"
    }
   ],
   "source": [
    "name = \"vegetables\"\n",
    "amazon_cart.extend([\"vegetables\"])\n",
    "amazon_cart"
   ]
  },
  {
   "cell_type": "code",
   "execution_count": 37,
   "metadata": {
    "scrolled": true
   },
   "outputs": [
    {
     "data": {
      "text/plain": [
       "['Beauty Products',\n",
       " 'Beverages',\n",
       " 'Books',\n",
       " 'Children Wear',\n",
       " 'Cloth',\n",
       " 'Electrical Appliances',\n",
       " 'Electronics',\n",
       " 'Groceries',\n",
       " 'Shoes',\n",
       " 'Stationaries',\n",
       " 'Sunglasses',\n",
       " 'food']"
      ]
     },
     "execution_count": 37,
     "metadata": {},
     "output_type": "execute_result"
    }
   ],
   "source": [
    "amazon_cart.sort()\n",
    "amazon_cart"
   ]
  },
  {
   "cell_type": "code",
   "execution_count": null,
   "metadata": {},
   "outputs": [],
   "source": []
  }
 ],
 "metadata": {
  "kernelspec": {
   "display_name": "Python 3",
   "language": "python",
   "name": "python3"
  },
  "language_info": {
   "codemirror_mode": {
    "name": "ipython",
    "version": 3
   },
   "file_extension": ".py",
   "mimetype": "text/x-python",
   "name": "python",
   "nbconvert_exporter": "python",
   "pygments_lexer": "ipython3",
   "version": "3.7.0"
  }
 },
 "nbformat": 4,
 "nbformat_minor": 2
}

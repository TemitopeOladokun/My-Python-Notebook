{
 "cells": [
  {
   "cell_type": "markdown",
   "metadata": {},
   "source": [
    "Python has different data types. \n",
    "1. Fundamental data types\n",
    " - int\n",
    " - float\n",
    " - bool\n",
    " - str\n",
    " - list\n",
    " - tuple\n",
    " - set\n",
    " - dict\n",
    " \n",
    "2. Classes: \n",
    "These are custom data types.\n",
    "\n",
    "3. None: This data types is use to signify that it has no value. \n",
    "\n",
    "4. Specialized data types"
   ]
  },
  {
   "cell_type": "code",
   "execution_count": 25,
   "metadata": {},
   "outputs": [
    {
     "name": "stdout",
     "output_type": "stream",
     "text": [
      "<class 'int'>\n",
      "<class 'int'>\n",
      "<class 'int'>\n",
      "<class 'float'>\n"
     ]
    }
   ],
   "source": [
    "print(type(6))\n",
    "print(type(6 - 4))\n",
    "print(type(3 * 2))\n",
    "print(type(9 / 3))"
   ]
  },
  {
   "cell_type": "code",
   "execution_count": 23,
   "metadata": {},
   "outputs": [
    {
     "name": "stdout",
     "output_type": "stream",
     "text": [
      "10\n",
      "2\n",
      "6\n",
      "3.0\n",
      "36\n",
      "3\n",
      "1\n"
     ]
    }
   ],
   "source": [
    "print(6 + 4))\n",
    "print(6 - 4)\n",
    "print(3 * 2)\n",
    "print(9 / 3)\n",
    "\n",
    "print(6 ** 2)\n",
    "print(7 // 2)\n",
    "print(7 % 2)"
   ]
  },
  {
   "cell_type": "code",
   "execution_count": null,
   "metadata": {},
   "outputs": [],
   "source": [
    "\n"
   ]
  },
  {
   "cell_type": "markdown",
   "metadata": {},
   "source": [
    "## To check for the binary equvalent of a number"
   ]
  },
  {
   "cell_type": "code",
   "execution_count": 18,
   "metadata": {},
   "outputs": [
    {
     "name": "stdout",
     "output_type": "stream",
     "text": [
      "0b10\n"
     ]
    }
   ],
   "source": [
    "print(bin(2))"
   ]
  },
  {
   "cell_type": "code",
   "execution_count": 17,
   "metadata": {},
   "outputs": [
    {
     "name": "stdout",
     "output_type": "stream",
     "text": [
      "2\n"
     ]
    }
   ],
   "source": [
    "print(int('0b10', 2))       #to convert the binary equivalent back to the initial value"
   ]
  },
  {
   "cell_type": "code",
   "execution_count": null,
   "metadata": {},
   "outputs": [],
   "source": []
  },
  {
   "cell_type": "markdown",
   "metadata": {},
   "source": [
    "## For complex number"
   ]
  },
  {
   "cell_type": "code",
   "execution_count": 20,
   "metadata": {},
   "outputs": [
    {
     "name": "stdout",
     "output_type": "stream",
     "text": [
      "(2+0j)\n"
     ]
    }
   ],
   "source": [
    "print(complex(2))"
   ]
  },
  {
   "cell_type": "markdown",
   "metadata": {},
   "source": [
    "## Operator Precedence\n",
    "\n",
    "#### This can be likened to the word BODMAS in Mathematics"
   ]
  },
  {
   "cell_type": "code",
   "execution_count": 21,
   "metadata": {},
   "outputs": [
    {
     "name": "stdout",
     "output_type": "stream",
     "text": [
      "54.0\n",
      "45.0\n",
      "45.0\n",
      "25.0\n",
      "25\n"
     ]
    }
   ],
   "source": [
    "print((7 + 2) * 12 / 2)\n",
    "\n",
    "print(((7 + 2) * 12) / 2)\n",
    "\n",
    "print((7 + 2) * (12 / 2))\n",
    "\n",
    "print(7 + (2 * 12) / 2)\n",
    "\n",
    "print(7 + 2 * 12 // 2)"
   ]
  },
  {
   "cell_type": "markdown",
   "metadata": {},
   "source": [
    "## Maths functions"
   ]
  },
  {
   "cell_type": "code",
   "execution_count": null,
   "metadata": {},
   "outputs": [],
   "source": [
    "print(round(3.9))    #rounding up\n",
    "print(round(3.1))    #rounding down"
   ]
  },
  {
   "cell_type": "code",
   "execution_count": 28,
   "metadata": {},
   "outputs": [
    {
     "name": "stdout",
     "output_type": "stream",
     "text": [
      "3.97\n",
      "3.1\n"
     ]
    }
   ],
   "source": [
    "print(abs(3.97))    # for absolute values\n",
    "print(abs(3.1))\n"
   ]
  },
  {
   "cell_type": "code",
   "execution_count": null,
   "metadata": {},
   "outputs": [],
   "source": []
  },
  {
   "cell_type": "markdown",
   "metadata": {},
   "source": [
    "## Assignment Operator"
   ]
  },
  {
   "cell_type": "code",
   "execution_count": 29,
   "metadata": {},
   "outputs": [
    {
     "data": {
      "text/plain": [
       "10"
      ]
     },
     "execution_count": 29,
     "metadata": {},
     "output_type": "execute_result"
    }
   ],
   "source": [
    "number = 8\n",
    "number = number + 2\n",
    "number"
   ]
  },
  {
   "cell_type": "code",
   "execution_count": 38,
   "metadata": {},
   "outputs": [
    {
     "name": "stdout",
     "output_type": "stream",
     "text": [
      "10\n"
     ]
    }
   ],
   "source": [
    "number = 8\n",
    "number += 2\n",
    "print(number)"
   ]
  },
  {
   "cell_type": "code",
   "execution_count": 37,
   "metadata": {},
   "outputs": [
    {
     "name": "stdout",
     "output_type": "stream",
     "text": [
      "6\n"
     ]
    }
   ],
   "source": [
    "number = 8\n",
    "number -= 2\n",
    "print(number)"
   ]
  },
  {
   "cell_type": "code",
   "execution_count": 36,
   "metadata": {},
   "outputs": [
    {
     "name": "stdout",
     "output_type": "stream",
     "text": [
      "16\n"
     ]
    }
   ],
   "source": [
    "number = 8\n",
    "number *= 2\n",
    "print(number)"
   ]
  },
  {
   "cell_type": "code",
   "execution_count": 35,
   "metadata": {},
   "outputs": [
    {
     "name": "stdout",
     "output_type": "stream",
     "text": [
      "4.0\n"
     ]
    }
   ],
   "source": [
    "number = 8\n",
    "number /= 2\n",
    "print(number)"
   ]
  },
  {
   "cell_type": "code",
   "execution_count": null,
   "metadata": {},
   "outputs": [],
   "source": []
  },
  {
   "cell_type": "markdown",
   "metadata": {},
   "source": [
    "## Strings and string concatenation\n",
    "\n",
    "String are written within single or double quote. Strings that are written on multiple lines can be within a tripple single quote. "
   ]
  },
  {
   "cell_type": "code",
   "execution_count": 40,
   "metadata": {},
   "outputs": [
    {
     "name": "stdout",
     "output_type": "stream",
     "text": [
      "Temitope Ola\n"
     ]
    }
   ],
   "source": [
    "first_name = 'Temitope'\n",
    "last_name = \"Ola\"\n",
    "\n",
    "full_name =  first_name + ' ' + last_name\n",
    "print(full_name)"
   ]
  },
  {
   "cell_type": "code",
   "execution_count": 42,
   "metadata": {},
   "outputs": [
    {
     "name": "stdout",
     "output_type": "stream",
     "text": [
      "\n",
      "\n",
      "<( @   @ )>\n",
      "  (  w  )\n",
      " (       )    ^\n",
      " (       )..//\n",
      "  wwwwwww\n",
      "\n",
      "\n"
     ]
    }
   ],
   "source": [
    "goggling_eye = '''\n",
    "\n",
    "<( @   @ )>\n",
    "  (  w  )\n",
    " (       )    ^\n",
    " (       )..//\n",
    "  wwwwwww\n",
    "\n",
    "'''\n",
    "\n",
    "print(goggling_eye)"
   ]
  },
  {
   "cell_type": "code",
   "execution_count": 48,
   "metadata": {},
   "outputs": [
    {
     "name": "stdout",
     "output_type": "stream",
     "text": [
      " \t I'm going to see the movie that was rated \"interesting\" and \"educative\" at the Oscar \n",
      "\n"
     ]
    }
   ],
   "source": [
    "activity = \" \\t I\\'m going to see the movie that was rated \\\"interesting\\\" and \\\"educative\\\" at the Oscar \\n\"\n",
    "print(activity)\n"
   ]
  },
  {
   "cell_type": "code",
   "execution_count": null,
   "metadata": {},
   "outputs": [],
   "source": [
    "## Type conversion"
   ]
  },
  {
   "cell_type": "code",
   "execution_count": 43,
   "metadata": {},
   "outputs": [
    {
     "name": "stdout",
     "output_type": "stream",
     "text": [
      "500.0\n"
     ]
    }
   ],
   "source": [
    "a = str(500)\n",
    "b = float(a)\n",
    "print(b) "
   ]
  },
  {
   "cell_type": "code",
   "execution_count": 44,
   "metadata": {},
   "outputs": [
    {
     "name": "stdout",
     "output_type": "stream",
     "text": [
      "<class 'float'>\n"
     ]
    }
   ],
   "source": [
    "a = str(500)\n",
    "b = float(a)\n",
    "c = type(b)\n",
    "print(c) "
   ]
  },
  {
   "cell_type": "code",
   "execution_count": 45,
   "metadata": {},
   "outputs": [
    {
     "name": "stdout",
     "output_type": "stream",
     "text": [
      "<class 'float'>\n"
     ]
    }
   ],
   "source": [
    "print(type(float(str(500))))"
   ]
  },
  {
   "cell_type": "code",
   "execution_count": null,
   "metadata": {},
   "outputs": [],
   "source": []
  },
  {
   "cell_type": "markdown",
   "metadata": {},
   "source": [
    "### String formatting"
   ]
  },
  {
   "cell_type": "code",
   "execution_count": 52,
   "metadata": {},
   "outputs": [
    {
     "name": "stdout",
     "output_type": "stream",
     "text": [
      "Hello, Simbi. You are 17 years old\n"
     ]
    }
   ],
   "source": [
    "name = \"Simbi\"\n",
    "age = 17\n",
    "\n",
    "# make sure there is no space between the 'f' keyword and the string you want to print out\n",
    "# the f-keyword is in python 3\n",
    "print(f\"Hello, {name}. You are {age} years old\")     "
   ]
  },
  {
   "cell_type": "code",
   "execution_count": 53,
   "metadata": {},
   "outputs": [
    {
     "name": "stdout",
     "output_type": "stream",
     "text": [
      "Hello, Simbi. You are 17 years old\n"
     ]
    }
   ],
   "source": [
    "name = \"Simbi\"\n",
    "age = 17\n",
    "\n",
    "print(\"Hello, {}. You are {} years old\".format(name, age))     "
   ]
  },
  {
   "cell_type": "code",
   "execution_count": 55,
   "metadata": {},
   "outputs": [
    {
     "name": "stdout",
     "output_type": "stream",
     "text": [
      "Hello, 17. You are Simbi years old\n"
     ]
    }
   ],
   "source": [
    "name = \"Simbi\"\n",
    "age = 17\n",
    "\n",
    "#using indexing\n",
    "print(\"Hello, {1}. You are {0} years old\".format(name, age))     "
   ]
  },
  {
   "cell_type": "code",
   "execution_count": 57,
   "metadata": {},
   "outputs": [
    {
     "name": "stdout",
     "output_type": "stream",
     "text": [
      "Hello, Ade. You are 50 years old\n"
     ]
    }
   ],
   "source": [
    "name = \"Simbi\"\n",
    "age = 17\n",
    "\n",
    "# changing the value in the print statement\n",
    "print(\"Hello, {new_name}. You are {new_age} years old\".format(new_name = 'Ade', new_age = 50 ))     "
   ]
  },
  {
   "cell_type": "markdown",
   "metadata": {},
   "source": [
    "### String Indexing"
   ]
  },
  {
   "cell_type": "code",
   "execution_count": 59,
   "metadata": {},
   "outputs": [
    {
     "name": "stdout",
     "output_type": "stream",
     "text": [
      "A\n"
     ]
    }
   ],
   "source": [
    "greet = \"Hello, Ade. You are 50 years old\"\n",
    "print(greet[7])"
   ]
  },
  {
   "cell_type": "code",
   "execution_count": 60,
   "metadata": {},
   "outputs": [
    {
     "name": "stdout",
     "output_type": "stream",
     "text": [
      "Ade\n"
     ]
    }
   ],
   "source": [
    "greet = \"Hello, Ade. You are 50 years old\"\n",
    "print(greet[7:10])       # [start:stop]"
   ]
  },
  {
   "cell_type": "code",
   "execution_count": null,
   "metadata": {},
   "outputs": [],
   "source": [
    "greet = \"Hello, Ade. You are 50 years old\"\n",
    "print(len(greet))   #finding out the length of the content in the variable"
   ]
  },
  {
   "cell_type": "code",
   "execution_count": 69,
   "metadata": {},
   "outputs": [
    {
     "name": "stdout",
     "output_type": "stream",
     "text": [
      "Hl eY e0esl\n"
     ]
    }
   ],
   "source": [
    "greet = \"Hello, Ade. You are 50 years old\"\n",
    "print(greet[0:32:3])       # [start:stop:stepover]"
   ]
  },
  {
   "cell_type": "code",
   "execution_count": 63,
   "metadata": {},
   "outputs": [
    {
     "name": "stdout",
     "output_type": "stream",
     "text": [
      "Hello, Ade. You are 50 years old\n"
     ]
    }
   ],
   "source": [
    "greet = \"Hello, Ade. You are 50 years old\"\n",
    "print(greet[:])       # prints out everything in the index"
   ]
  },
  {
   "cell_type": "code",
   "execution_count": 64,
   "metadata": {},
   "outputs": [
    {
     "name": "stdout",
     "output_type": "stream",
     "text": [
      "Hlo d.Yuae5 er l\n"
     ]
    }
   ],
   "source": [
    "greet = \"Hello, Ade. You are 50 years old\"\n",
    "print(greet[::2])       # [start:stop:stepover]"
   ]
  },
  {
   "cell_type": "code",
   "execution_count": 65,
   "metadata": {},
   "outputs": [
    {
     "name": "stdout",
     "output_type": "stream",
     "text": [
      "d\n"
     ]
    }
   ],
   "source": [
    "greet = \"Hello, Ade. You are 50 years old\"\n",
    "print(greet[-1])       # prints the last value"
   ]
  },
  {
   "cell_type": "code",
   "execution_count": 66,
   "metadata": {},
   "outputs": [
    {
     "name": "stdout",
     "output_type": "stream",
     "text": [
      "edA,olleH\n"
     ]
    }
   ],
   "source": [
    "greet = \"Hello,Ade\"\n",
    "print(greet[::-1])       # reverse the index value"
   ]
  },
  {
   "cell_type": "markdown",
   "metadata": {},
   "source": [
    "#### Manipulating string with built-in functions"
   ]
  },
  {
   "cell_type": "code",
   "execution_count": 71,
   "metadata": {},
   "outputs": [
    {
     "name": "stdout",
     "output_type": "stream",
     "text": [
      "WHAT IS YOUR NAME?\n"
     ]
    }
   ],
   "source": [
    "sentence = \"what is your name?\"\n",
    "print(sentence.upper())"
   ]
  },
  {
   "cell_type": "code",
   "execution_count": 72,
   "metadata": {},
   "outputs": [
    {
     "name": "stdout",
     "output_type": "stream",
     "text": [
      "What is your name?\n"
     ]
    }
   ],
   "source": [
    "sentence = \"what is your name?\"\n",
    "print(sentence.capitalize())"
   ]
  },
  {
   "cell_type": "code",
   "execution_count": 75,
   "metadata": {},
   "outputs": [
    {
     "name": "stdout",
     "output_type": "stream",
     "text": [
      "5\n"
     ]
    }
   ],
   "source": [
    "sentence = \"what is your name?\"\n",
    "print(sentence.find('is'))"
   ]
  },
  {
   "cell_type": "code",
   "execution_count": 76,
   "metadata": {},
   "outputs": [
    {
     "name": "stdout",
     "output_type": "stream",
     "text": [
      "what are your name?\n"
     ]
    }
   ],
   "source": [
    "sentence = \"what is your name?\"\n",
    "print(sentence.replace('is', 'are'))"
   ]
  },
  {
   "cell_type": "code",
   "execution_count": null,
   "metadata": {},
   "outputs": [],
   "source": []
  },
  {
   "cell_type": "markdown",
   "metadata": {},
   "source": [
    "## Boolean"
   ]
  },
  {
   "cell_type": "code",
   "execution_count": 77,
   "metadata": {},
   "outputs": [
    {
     "name": "stdout",
     "output_type": "stream",
     "text": [
      "True\n",
      "False\n"
     ]
    }
   ],
   "source": [
    "print(bool(1))\n",
    "print(bool(0))"
   ]
  },
  {
   "cell_type": "code",
   "execution_count": null,
   "metadata": {},
   "outputs": [],
   "source": []
  },
  {
   "cell_type": "markdown",
   "metadata": {},
   "source": [
    "### Exercises"
   ]
  },
  {
   "cell_type": "markdown",
   "metadata": {},
   "source": [
    "#### The first exercise is to calculate the age of an individual"
   ]
  },
  {
   "cell_type": "code",
   "execution_count": 86,
   "metadata": {},
   "outputs": [
    {
     "name": "stdout",
     "output_type": "stream",
     "text": [
      "what year were you born? 1991\n",
      "Your age is: 29\n"
     ]
    }
   ],
   "source": [
    "birth_year = input(\"what year were you born? \")\n",
    "\n",
    "cal = 2020 - int(birth_year)\n",
    "\n",
    "print(f\"Your age is: {cal}\")"
   ]
  },
  {
   "cell_type": "code",
   "execution_count": null,
   "metadata": {},
   "outputs": [],
   "source": []
  },
  {
   "cell_type": "markdown",
   "metadata": {},
   "source": [
    "#### The second exercise is like a login platform"
   ]
  },
  {
   "cell_type": "code",
   "execution_count": 3,
   "metadata": {},
   "outputs": [
    {
     "name": "stdout",
     "output_type": "stream",
     "text": [
      "What is your name? Temmy\n",
      "Enter your password? resilience\n",
      "Temmy, your password is ********** and it is 10 letters long\n"
     ]
    }
   ],
   "source": [
    "username = input(\"What is your name? \")\n",
    "password = input(\"Enter your password? \")\n",
    "letters = len(password)\n",
    "secret =(letters * \"*\")\n",
    "\n",
    "print(f\"{username}, your password is {secret} and it is {letters} letters long\")"
   ]
  },
  {
   "cell_type": "code",
   "execution_count": null,
   "metadata": {},
   "outputs": [],
   "source": []
  },
  {
   "cell_type": "code",
   "execution_count": null,
   "metadata": {},
   "outputs": [],
   "source": []
  },
  {
   "cell_type": "code",
   "execution_count": null,
   "metadata": {},
   "outputs": [],
   "source": []
  },
  {
   "cell_type": "code",
   "execution_count": null,
   "metadata": {},
   "outputs": [],
   "source": []
  }
 ],
 "metadata": {
  "kernelspec": {
   "display_name": "Python 3",
   "language": "python",
   "name": "python3"
  },
  "language_info": {
   "codemirror_mode": {
    "name": "ipython",
    "version": 3
   },
   "file_extension": ".py",
   "mimetype": "text/x-python",
   "name": "python",
   "nbconvert_exporter": "python",
   "pygments_lexer": "ipython3",
   "version": "3.7.0"
  }
 },
 "nbformat": 4,
 "nbformat_minor": 2
}
